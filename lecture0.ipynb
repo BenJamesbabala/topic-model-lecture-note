{
 "metadata": {
  "name": "",
  "signature": "sha256:9c7212381063660452ca6983f0e4d1625daa779cc8e496df07644d014b81d590"
 },
 "nbformat": 3,
 "nbformat_minor": 0,
 "worksheets": [
  {
   "cells": [
    {
     "cell_type": "heading",
     "level": 1,
     "metadata": {
      "slideshow": {
       "slide_type": "slide"
      }
     },
     "source": [
      "Lecture 0 - Introduction"
     ]
    },
    {
     "cell_type": "markdown",
     "metadata": {
      "slideshow": {
       "slide_type": "slide"
      }
     },
     "source": [
      "The goal of this lecture is to give a basic "
     ]
    },
    {
     "cell_type": "code",
     "collapsed": false,
     "input": [
      "%pylab inline"
     ],
     "language": "python",
     "metadata": {
      "slideshow": {
       "slide_type": "slide"
      }
     },
     "outputs": [
      {
       "output_type": "stream",
       "stream": "stdout",
       "text": [
        "Populating the interactive namespace from numpy and matplotlib\n"
       ]
      }
     ],
     "prompt_number": 1
    },
    {
     "cell_type": "markdown",
     "metadata": {},
     "source": [
      "Let's import `numpy` and `pyplot` package first\n",
      "\n",
      "[Gentle introduction to numpy library](http://nbviewer.ipython.org/github/jrjohansson/scientific-python-lectures/blob/master/Lecture-2-Numpy.ipynb)"
     ]
    },
    {
     "cell_type": "code",
     "collapsed": false,
     "input": [
      "import numpy as np\n",
      "import matplotlib.pyplot as plt"
     ],
     "language": "python",
     "metadata": {},
     "outputs": [],
     "prompt_number": 108
    },
    {
     "cell_type": "markdown",
     "metadata": {},
     "source": [
      "##Drawing Samples from Distribution##"
     ]
    },
    {
     "cell_type": "markdown",
     "metadata": {},
     "source": [
      "`Dirichlet` distribution is a distribution over a multinomial distribution, which means a random sample (*\\theta*) drawn from K-dimensional `Dirichlet` can be used as a parameter of multinomial distribution. (i.e. *\\sum_i^K \\theta_i = 1, \\theta_i > 0* for all *i*)\n",
      "\n",
      "PDF of unsymmetric K-dim Dirichlet distribution (use different parameters for each dimension)\n",
      "\n",
      "$$Dir(\\vec\\theta | \\vec\\alpha) = \\frac{\\Gamma(\\sum^K \\alpha_i)}{\\prod^K \\Gamma(\\alpha_i)} \\prod^K \\theta_i^{\\alpha_i-1}$$\n",
      "\n",
      "PDF of symmetric Dirichlet distribution (use same parameter for every dimension)\n",
      "\n",
      "$$Dir(\\vec\\theta | \\alpha) = \\frac{\\Gamma(K \\alpha)}{\\Gamma(\\alpha)^K} \\prod^K \\theta_i^{\\alpha-1}$$\n",
      "\n",
      "Now, let's draw samples from Dirichlet distribution with `numpy` library"
     ]
    },
    {
     "cell_type": "code",
     "collapsed": false,
     "input": [
      "# number of dimensions of Dirichlet distribution\n",
      "ndim = 5\n",
      "# number of samples drawn\n",
      "nsample = 10\n",
      "# parameter of dirichlet distribution\n",
      "alpha = [0.1] * ndim\n",
      "\n",
      "# drawing samples using numpy\n",
      "theta = np.random.dirichlet(alpha, size=nsample)"
     ],
     "language": "python",
     "metadata": {},
     "outputs": [],
     "prompt_number": 109
    },
    {
     "cell_type": "code",
     "collapsed": false,
     "input": [
      "#plot samples using bar chart\n",
      "ndraws = 4\n",
      "plt.subplots(figsize=(12,3*ndraws/2))\n",
      "for i in xrange(ndraws):\n",
      "    plt.subplot(ndraws/2,2,i)\n",
      "    plt.bar(xrange(ndim), theta[i])"
     ],
     "language": "python",
     "metadata": {},
     "outputs": [
      {
       "metadata": {},
       "output_type": "display_data",
       "png": "[encoded data removed]",
       "text": [
        "<matplotlib.figure.Figure at 0x10e8c6190>"
       ]
      }
     ],
     "prompt_number": 110
    },
    {
     "cell_type": "markdown",
     "metadata": {},
     "source": [
      "Let's compute the mean of one million samples from `Dir(0.1)`"
     ]
    },
    {
     "cell_type": "code",
     "collapsed": false,
     "input": [
      "# increase the sample size\n",
      "nsample = 1000000\n",
      "theta = np.random.dirichlet(alpha, size=nsample)\n",
      "np.mean(theta, 0)"
     ],
     "language": "python",
     "metadata": {},
     "outputs": [
      {
       "metadata": {},
       "output_type": "pyout",
       "prompt_number": 111,
       "text": [
        "array([ 0.20020122,  0.19958938,  0.20074442,  0.19969049,  0.19977449])"
       ]
      }
     ],
     "prompt_number": 111
    },
    {
     "cell_type": "markdown",
     "metadata": {},
     "source": [
      "Now, let's compute the mean of one million samples from `Dir(1)`"
     ]
    },
    {
     "cell_type": "code",
     "collapsed": false,
     "input": [
      "alpha = [1]*ndim\n",
      "nsample = 1000000\n",
      "theta = np.random.dirichlet(alpha, size=nsample)\n",
      "np.mean(theta, 0)"
     ],
     "language": "python",
     "metadata": {},
     "outputs": [
      {
       "metadata": {},
       "output_type": "pyout",
       "prompt_number": 112,
       "text": [
        "array([ 0.19980387,  0.20010643,  0.20001417,  0.19992762,  0.20014791])"
       ]
      }
     ],
     "prompt_number": 112
    },
    {
     "cell_type": "code",
     "collapsed": false,
     "input": [
      "ndraws = 4\n",
      "plt.subplots(figsize=(12,3*ndraws/2))\n",
      "for i in xrange(ndraws):\n",
      "    plt.subplot(ndraws/2,2,i)\n",
      "    plt.bar(xrange(ndim), theta[i])"
     ],
     "language": "python",
     "metadata": {},
     "outputs": [
      {
       "metadata": {},
       "output_type": "display_data",
       "png": "[encoded data removed]",
       "text": [
        "<matplotlib.figure.Figure at 0x10f257390>"
       ]
      }
     ],
     "prompt_number": 113
    },
    {
     "cell_type": "markdown",
     "metadata": {},
     "source": [
      "Let's compute the mean of one million samples from `Dir(100)`"
     ]
    },
    {
     "cell_type": "code",
     "collapsed": false,
     "input": [
      "alpha = [100]*ndim\n",
      "nsample = 1000000\n",
      "theta = np.random.dirichlet(alpha, size=nsample)\n",
      "np.mean(theta, 0)"
     ],
     "language": "python",
     "metadata": {},
     "outputs": [
      {
       "metadata": {},
       "output_type": "pyout",
       "prompt_number": 114,
       "text": [
        "array([ 0.19998073,  0.20001121,  0.19999409,  0.19999634,  0.20001764])"
       ]
      }
     ],
     "prompt_number": 114
    },
    {
     "cell_type": "code",
     "collapsed": false,
     "input": [
      "ndraws = 4\n",
      "plt.subplots(figsize=(12,3*ndraws/2))\n",
      "for i in xrange(ndraws):\n",
      "    plt.subplot(ndraws/2,2,i)\n",
      "    plt.bar(xrange(ndim), theta[i])"
     ],
     "language": "python",
     "metadata": {},
     "outputs": [
      {
       "metadata": {},
       "output_type": "display_data",
       "png": "[encoded data removed]",
       "text": [
        "<matplotlib.figure.Figure at 0x10f253a90>"
       ]
      }
     ],
     "prompt_number": 115
    },
    {
     "cell_type": "markdown",
     "metadata": {},
     "source": [
      "The averages of samples from different `Dirichlet` are almost identical, however, as the value of parameter decreases, the sparsity of samples increases."
     ]
    },
    {
     "cell_type": "code",
     "collapsed": false,
     "input": [],
     "language": "python",
     "metadata": {},
     "outputs": [],
     "prompt_number": 115
    }
   ],
   "metadata": {}
  }
 ]
}