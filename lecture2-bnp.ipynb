{
 "metadata": {
  "name": "",
  "signature": "sha256:d6a61d53d87d8778a956e06742a0f2f17971941fd0b2d2cf0f48ea504222619e"
 },
 "nbformat": 3,
 "nbformat_minor": 0,
 "worksheets": [
  {
   "cells": [
    {
     "cell_type": "heading",
     "level": 2,
     "metadata": {},
     "source": [
      "Stick breaking process"
     ]
    },
    {
     "cell_type": "markdown",
     "metadata": {},
     "source": [
      "Draw results of stick breaking process with truncation level T and concentration parameter alpha"
     ]
    },
    {
     "cell_type": "code",
     "collapsed": false,
     "input": [
      "%pylab inline"
     ],
     "language": "python",
     "metadata": {},
     "outputs": [
      {
       "output_type": "stream",
       "stream": "stdout",
       "text": [
        "Populating the interactive namespace from numpy and matplotlib\n"
       ]
      }
     ],
     "prompt_number": 1
    },
    {
     "cell_type": "code",
     "collapsed": false,
     "input": [
      "#stick breaking process, return stick lengths\n",
      "def sbp(_alpha, _T):\n",
      "    V = np.random.beta(1,_alpha,size=_T)\n",
      "    V[_T-1]=1\n",
      "    oneV = np.ones(_T)\n",
      "    oneV[1:] = 1-V[:_T-1]\n",
      "    return V*np.cumprod(oneV)"
     ],
     "language": "python",
     "metadata": {},
     "outputs": [],
     "prompt_number": 2
    },
    {
     "cell_type": "code",
     "collapsed": false,
     "input": [
      "# concentration parameter alpha\n",
      "alpha_1 = 10\n",
      "alpha_2 = 1\n",
      "alpha_3 = 0.1\n",
      "# truncation level\n",
      "T = 50\n",
      "\n",
      "# draw \n",
      "p1 = sbp(alpha_1, T)\n",
      "p2 = sbp(alpha_2, T)\n",
      "p3 = sbp(alpha_3, T)"
     ],
     "language": "python",
     "metadata": {},
     "outputs": [],
     "prompt_number": 3
    },
    {
     "cell_type": "code",
     "collapsed": false,
     "input": [
      "#subplots, figsize = col_size x row_size\n",
      "plt.subplots(1,3, figsize=(18,4))\n",
      "\n",
      "plt.subplot(1,3,1)\n",
      "plt.bar(range(T), p1, )\n",
      "plt.title('alpha = %f' % alpha_1)\n",
      "\n",
      "plt.subplot(1,3,2)\n",
      "plt.bar(range(T), p2)\n",
      "plt.title('alpha = %f' % alpha_2)\n",
      "\n",
      "plt.subplot(1,3,3)\n",
      "plt.bar(range(T), p3)\n",
      "plt.title('alpha = %f' % alpha_3)"
     ],
     "language": "python",
     "metadata": {},
     "outputs": [
      {
       "metadata": {},
       "output_type": "pyout",
       "prompt_number": 4,
       "text": [
        "<matplotlib.text.Text at 0x10df4b250>"
       ]
      },
      {
       "metadata": {},
       "output_type": "display_data",
       "png": "[encoded data removed]",
       "text": [
        "<matplotlib.figure.Figure at 0x10dbec3d0>"
       ]
      }
     ],
     "prompt_number": 4
    },
    {
     "cell_type": "heading",
     "level": 2,
     "metadata": {},
     "source": [
      "Normalized gamma process"
     ]
    },
    {
     "cell_type": "code",
     "collapsed": false,
     "input": [
      "#normalized gamma process\n",
      "def ngp(_alpha, _T):\n",
      "    V = np.random.gamma(1,_alpha,size=_T)\n",
      "    return (V, V/np.sum(V))"
     ],
     "language": "python",
     "metadata": {},
     "outputs": [],
     "prompt_number": 5
    },
    {
     "cell_type": "code",
     "collapsed": false,
     "input": [
      "alpha = 1\n",
      "T1 = 50\n",
      "T2 = 100\n",
      "T3 = 200\n",
      "\n",
      "v1,p1 = ngp(alpha, T1)\n",
      "v2,p2 = ngp(alpha, T2)\n",
      "v3,p3 = ngp(alpha, T3)\n",
      "\n",
      "#subplots, figsize = col_size x row_size\n",
      "plt.subplots(1,3, figsize=(18,4))\n",
      "\n",
      "plt.subplot(1,3,1)\n",
      "plt.bar(range(T1), v1, )\n",
      "plt.title('T = %f' % T1)\n",
      "\n",
      "plt.subplot(1,3,2)\n",
      "plt.bar(range(T2), v2)\n",
      "plt.title('T = %f' % T2)\n",
      "\n",
      "plt.subplot(1,3,3)\n",
      "plt.bar(range(T3), v3)\n",
      "plt.title('T = %f' % T3)"
     ],
     "language": "python",
     "metadata": {},
     "outputs": [
      {
       "metadata": {},
       "output_type": "pyout",
       "prompt_number": 6,
       "text": [
        "<matplotlib.text.Text at 0x10f450610>"
       ]
      },
      {
       "metadata": {},
       "output_type": "display_data",
       "png": "[encoded data removed]",
       "text": [
        "<matplotlib.figure.Figure at 0x10dc9f5d0>"
       ]
      }
     ],
     "prompt_number": 6
    },
    {
     "cell_type": "markdown",
     "metadata": {},
     "source": [
      "#Dirichlet Process Mixture#"
     ]
    },
    {
     "cell_type": "markdown",
     "metadata": {},
     "source": [
      "Dirichlet Process Mixture example\n",
      "\n",
      "Likelihood model = two-dimensional normal distribution\n",
      "\n",
      "###Test data generate from two-dimensional normal distribution###"
     ]
    },
    {
     "cell_type": "code",
     "collapsed": false,
     "input": [
      "from scipy.stats import multivariate_normal \n",
      "\n",
      "n = 60 #n should be multiple of three\n",
      "x = np.zeros([n,2])\n",
      "color = ['r','b','g','m','c','y','k']\n",
      "n_c = n/3"
     ],
     "language": "python",
     "metadata": {},
     "outputs": [],
     "prompt_number": 7
    },
    {
     "cell_type": "markdown",
     "metadata": {},
     "source": [
      "First cluster:\n",
      "\n",
      "$x \\sim \\text{Mulrivariate-Normal}([2,2], 0.5*I)$\n",
      "\n",
      "Second cluster:\n",
      "\n",
      "$x \\sim \\text{Mulrivariate-Normal}([-2,-2], 0.5*I)$\n",
      "\n",
      "Third cluster:\n",
      "\n",
      "$x \\sim \\text{Mulrivariate-Normal}([2,-2], 0.5*I)$\n",
      "\n",
      "\n",
      "We randomly generate 20 data points for each cluster."
     ]
    },
    {
     "cell_type": "code",
     "collapsed": false,
     "input": [
      "# we assume three clusters\n",
      "# mean and variance of original data \n",
      "mu1 = [2,2]; mu2 = [-2,-2]; mu3 = [2,-2]\n",
      "sigma = np.identity(2) * 0.5\n",
      "\n",
      "# randomly generate n/3 data point per cluster\n",
      "x[:n_c,:] = np.random.multivariate_normal (mu1, sigma, size=n_c)\n",
      "x[n_c:n_c*2:] = np.random.multivariate_normal (mu2, sigma, size=n_c)\n",
      "x[n_c*2:,:] = np.random.multivariate_normal(mu3, sigma, size=n_c)\n",
      "\n",
      "y = [0]*n_c + [1]*n_c + [2]*n_c"
     ],
     "language": "python",
     "metadata": {},
     "outputs": [],
     "prompt_number": 8
    },
    {
     "cell_type": "code",
     "collapsed": false,
     "input": [
      "# plot randomly generated data to 2-dim space\n",
      "c_mask = [color[y[i]] for i in xrange(n)]\n",
      "plt.scatter(x[:,0],x[:,1], c=c_mask)"
     ],
     "language": "python",
     "metadata": {},
     "outputs": [
      {
       "metadata": {},
       "output_type": "pyout",
       "prompt_number": 9,
       "text": [
        "<matplotlib.collections.PathCollection at 0x10dfd6710>"
       ]
      },
      {
       "metadata": {},
       "output_type": "display_data",
       "png": "[encoded data removed]",
       "text": [
        "<matplotlib.figure.Figure at 0x10d73fcd0>"
       ]
      }
     ],
     "prompt_number": 9
    },
    {
     "cell_type": "markdown",
     "metadata": {},
     "source": [
      "### Sampling Code ###"
     ]
    },
    {
     "cell_type": "code",
     "collapsed": false,
     "input": [
      "table = np.zeros(n)    #currently assigned table number for each data\n",
      "\n",
      "alpha = 0.5 #hyperparameter (concentration parameter)\n",
      "\n",
      "#set table of first data point\n",
      "table[0] = 1"
     ],
     "language": "python",
     "metadata": {},
     "outputs": [],
     "prompt_number": 10
    },
    {
     "cell_type": "markdown",
     "metadata": {},
     "source": [
      "Sampling table number of second data point"
     ]
    },
    {
     "cell_type": "code",
     "collapsed": false,
     "input": [
      "candidate = list()  # currently allocated topic list\n",
      "prob = list()       # probability of being assigned to each table\n",
      "\n",
      "\n",
      "# sampling table number of second data point\n",
      "for _t in np.unique(table):\n",
      "    if _t != 0:\n",
      "        candidate.append(int(_t))\n",
      "        # this is not correct marginalized probability, see http://en.wikipedia.org/wiki/Conjugate_prior for correct posterior analysis\n",
      "        mean = np.mean(x[table == _t, :], axis=0)\n",
      "        prob.append( np.sum(table == _t)/(np.sum(table != 0)+alpha) \\\n",
      "                    * multivariate_normal.pdf(x[1,:],mean, np.identity(2)) )\n",
      "\n",
      "# get new table number\n",
      "def get_new_table_no():\n",
      "    u_t = set(np.unique(table))\n",
      "    for i in xrange(1,1000):\n",
      "        if not i in u_t:\n",
      "            return i\n",
      "\n",
      "# compute probability of being assigned to new table\n",
      "new_table = get_new_table_no()\n",
      "candidate.append(new_table)\n",
      "prob.append( alpha/(np.sum(table != 0)+alpha) \\\n",
      "            * multivariate_normal.pdf(x[1,:], np.zeros(2), np.identity(2))  )\n",
      "\n",
      "# normalize probability\n",
      "prob = np.array(prob)\n",
      "prob /= np.sum(prob)"
     ],
     "language": "python",
     "metadata": {},
     "outputs": [],
     "prompt_number": 11
    },
    {
     "cell_type": "markdown",
     "metadata": {},
     "source": [
      "Candidate tables and corresponding probabilities"
     ]
    },
    {
     "cell_type": "code",
     "collapsed": false,
     "input": [
      "print candidate\n",
      "print prob"
     ],
     "language": "python",
     "metadata": {},
     "outputs": [
      {
       "output_type": "stream",
       "stream": "stdout",
       "text": [
        "[1, 2]\n",
        "[ 0.99794869  0.00205131]\n"
       ]
      }
     ],
     "prompt_number": 12
    },
    {
     "cell_type": "code",
     "collapsed": false,
     "input": [
      "# draw a random sample from multinomial distribution parameterized by prob\n",
      "sample = np.random.multinomial(1, prob)\n",
      "# new table number for second data point\n",
      "table_idx = sample.nonzero()[0][0]\n",
      "table[1] = candidate[table_idx]\n",
      "\n",
      "# table assignment of first two data points\n",
      "table"
     ],
     "language": "python",
     "metadata": {},
     "outputs": [
      {
       "metadata": {},
       "output_type": "pyout",
       "prompt_number": 13,
       "text": [
        "array([ 1.,  1.,  0.,  0.,  0.,  0.,  0.,  0.,  0.,  0.,  0.,  0.,  0.,\n",
        "        0.,  0.,  0.,  0.,  0.,  0.,  0.,  0.,  0.,  0.,  0.,  0.,  0.,\n",
        "        0.,  0.,  0.,  0.,  0.,  0.,  0.,  0.,  0.,  0.,  0.,  0.,  0.,\n",
        "        0.,  0.,  0.,  0.,  0.,  0.,  0.,  0.,  0.,  0.,  0.,  0.,  0.,\n",
        "        0.,  0.,  0.,  0.,  0.,  0.,  0.,  0.])"
       ]
      }
     ],
     "prompt_number": 13
    },
    {
     "cell_type": "code",
     "collapsed": false,
     "input": [
      "max_iter=100\n",
      "number_of_clusters = list()\n",
      "\n",
      "for s_iter in xrange(max_iter):\n",
      "    for idx in xrange(n):\n",
      "        candidate = list()\n",
      "        prob = list()\n",
      "        \n",
      "        table[idx] = 0\n",
      "\n",
      "        for _t in np.unique(table):\n",
      "            if _t != 0:\n",
      "                candidate.append(int(_t))\n",
      "                # this is not correct marginalized probability, see http://en.wikipedia.org/wiki/Conjugate_prior for correct posterior analysis\n",
      "                mean = np.mean(x[table == _t, :], axis=0) #mean of currently assigned data\n",
      "                prob.append( np.sum(table == _t)/(np.sum(table != 0)+alpha) \\\n",
      "                            * multivariate_normal.pdf(x[idx,:], mean, np.identity(2)) )\n",
      "\n",
      "        # compute probability of being assigned to new table\n",
      "        new_table = get_new_table_no()\n",
      "        candidate.append(new_table)\n",
      "        prob.append( alpha/(np.sum(table != 0)+alpha) \\\n",
      "                    * multivariate_normal.pdf(x[idx,:], np.zeros(2), np.identity(2)) )    \n",
      "\n",
      "        # normalize probability\n",
      "        prob = np.array(prob)\n",
      "        prob /= np.sum(prob)\n",
      "\n",
      "        #sample table index\n",
      "        sample = np.random.multinomial(1, prob)\n",
      "        table_idx = sample.nonzero()[0][0]\n",
      "        table[idx] = candidate[table_idx]\n",
      "        \n",
      "    #for tracking purpose\n",
      "    number_of_clusters.append(len(np.unique(table)))"
     ],
     "language": "python",
     "metadata": {},
     "outputs": [],
     "prompt_number": 14
    },
    {
     "cell_type": "markdown",
     "metadata": {},
     "source": [
      "###Plot Results###\n",
      "Plot assignment of final samples"
     ]
    },
    {
     "cell_type": "code",
     "collapsed": false,
     "input": [
      "c_mask = [color[int(table[i])%len(color)] for i in xrange(n)]\n",
      "plt.scatter(x[:,0],x[:,1], c=c_mask)"
     ],
     "language": "python",
     "metadata": {},
     "outputs": [
      {
       "metadata": {},
       "output_type": "pyout",
       "prompt_number": 15,
       "text": [
        "<matplotlib.collections.PathCollection at 0x10dffda90>"
       ]
      },
      {
       "metadata": {},
       "output_type": "display_data",
       "png": "[encoded data removed]",
       "text": [
        "<matplotlib.figure.Figure at 0x10dc0ba10>"
       ]
      }
     ],
     "prompt_number": 15
    },
    {
     "cell_type": "markdown",
     "metadata": {},
     "source": [
      "Plot number of clusters through the iterations"
     ]
    },
    {
     "cell_type": "code",
     "collapsed": false,
     "input": [
      "plt.plot(range(max_iter), number_of_clusters)"
     ],
     "language": "python",
     "metadata": {},
     "outputs": [
      {
       "metadata": {},
       "output_type": "pyout",
       "prompt_number": 16,
       "text": [
        "[<matplotlib.lines.Line2D at 0x111a8af90>]"
       ]
      },
      {
       "metadata": {},
       "output_type": "display_data",
       "png": "[encoded data removed]",
       "text": [
        "<matplotlib.figure.Figure at 0x10d735cd0>"
       ]
      }
     ],
     "prompt_number": 16
    },
    {
     "cell_type": "code",
     "collapsed": false,
     "input": [
      "np.mean(number_of_clusters)"
     ],
     "language": "python",
     "metadata": {},
     "outputs": [
      {
       "metadata": {},
       "output_type": "pyout",
       "prompt_number": 17,
       "text": [
        "3.2200000000000002"
       ]
      }
     ],
     "prompt_number": 17
    },
    {
     "cell_type": "code",
     "collapsed": false,
     "input": [
      "np.unique(table)"
     ],
     "language": "python",
     "metadata": {},
     "outputs": [
      {
       "metadata": {},
       "output_type": "pyout",
       "prompt_number": 18,
       "text": [
        "array([ 1.,  2.,  3.])"
       ]
      }
     ],
     "prompt_number": 18
    },
    {
     "cell_type": "code",
     "collapsed": false,
     "input": [
      "for t in np.unique(table):\n",
      "    print 'Table', int(t)\n",
      "    print 'number of data points assigned to this table', np.sum(table==t)\n",
      "    print np.mean(x[table==t,:], axis=0)\n",
      "    print"
     ],
     "language": "python",
     "metadata": {},
     "outputs": [
      {
       "output_type": "stream",
       "stream": "stdout",
       "text": [
        "Table 1\n",
        "number of data points assigned to this table 20\n",
        "[ 1.99834569  1.75685838]\n",
        "\n",
        "Table 2\n",
        "number of data points assigned to this table 20\n",
        "[-1.99439971 -1.80973143]\n",
        "\n",
        "Table 3\n",
        "number of data points assigned to this table 20\n",
        "[ 1.89358224 -2.15001022]\n",
        "\n"
       ]
      }
     ],
     "prompt_number": 19
    },
    {
     "cell_type": "code",
     "collapsed": false,
     "input": [],
     "language": "python",
     "metadata": {},
     "outputs": []
    }
   ],
   "metadata": {}
  }
 ]
}