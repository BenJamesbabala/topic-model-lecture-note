{
 "metadata": {
  "name": "",
  "signature": "sha256:df98d2d2a68a4a31ed21fef5aa855f09e4ca6fd53cf449ade375774c4e52ec4f"
 },
 "nbformat": 3,
 "nbformat_minor": 0,
 "worksheets": [
  {
   "cells": [
    {
     "cell_type": "heading",
     "level": 2,
     "metadata": {},
     "source": [
      "Stick breaking process"
     ]
    },
    {
     "cell_type": "markdown",
     "metadata": {},
     "source": [
      "Draw results of stick breaking process with truncation level T and concentration parameter alpha"
     ]
    },
    {
     "cell_type": "code",
     "collapsed": false,
     "input": [
      "%pylab inline"
     ],
     "language": "python",
     "metadata": {},
     "outputs": [
      {
       "output_type": "stream",
       "stream": "stdout",
       "text": [
        "Populating the interactive namespace from numpy and matplotlib\n"
       ]
      }
     ],
     "prompt_number": 49
    },
    {
     "cell_type": "code",
     "collapsed": false,
     "input": [
      "#stick breaking process, return stick lengths\n",
      "def sbp(_alpha, _T):\n",
      "    V = np.random.beta(1,_alpha,size=_T)\n",
      "    V[_T-1]=1\n",
      "    oneV = np.ones(_T)\n",
      "    oneV[1:] = 1-V[:_T-1]\n",
      "    return V*np.cumprod(oneV)"
     ],
     "language": "python",
     "metadata": {},
     "outputs": [],
     "prompt_number": 79
    },
    {
     "cell_type": "code",
     "collapsed": false,
     "input": [
      "# concentration parameter alpha\n",
      "alpha_1 = 10\n",
      "alpha_2 = 1\n",
      "alpha_3 = 0.1\n",
      "# truncation level\n",
      "T = 50\n",
      "\n",
      "# draw \n",
      "p1 = sbp(alpha_1, T)\n",
      "p2 = sbp(alpha_2, T)\n",
      "p3 = sbp(alpha_3, T)"
     ],
     "language": "python",
     "metadata": {},
     "outputs": [],
     "prompt_number": 80
    },
    {
     "cell_type": "code",
     "collapsed": false,
     "input": [
      "#subplots, figsize = col_size x row_size\n",
      "plt.subplots(1,3, figsize=(18,4))\n",
      "\n",
      "plt.subplot(1,3,1)\n",
      "plt.bar(range(T), p1, )\n",
      "plt.title('alpha = %f' % alpha_1)\n",
      "\n",
      "plt.subplot(1,3,2)\n",
      "plt.bar(range(T), p2)\n",
      "plt.title('alpha = %f' % alpha_2)\n",
      "\n",
      "plt.subplot(1,3,3)\n",
      "plt.bar(range(T), p3)\n",
      "plt.title('alpha = %f' % alpha_3)"
     ],
     "language": "python",
     "metadata": {},
     "outputs": [
      {
       "metadata": {},
       "output_type": "pyout",
       "prompt_number": 81,
       "text": [
        "<matplotlib.text.Text at 0x11fc03310>"
       ]
      },
      {
       "metadata": {},
       "output_type": "display_data",
       "png": "[encoded data removed]",
       "text": [
        "<matplotlib.figure.Figure at 0x11fa2fa10>"
       ]
      }
     ],
     "prompt_number": 81
    },
    {
     "cell_type": "heading",
     "level": 2,
     "metadata": {},
     "source": [
      "Normalized gamma process"
     ]
    },
    {
     "cell_type": "code",
     "collapsed": false,
     "input": [
      "#normalized gamma process\n",
      "def ngp(_alpha, _T):\n",
      "    V = np.random.gamma(1,_alpha,size=_T)\n",
      "    return V/np.sum(V)"
     ],
     "language": "python",
     "metadata": {},
     "outputs": [],
     "prompt_number": 85
    },
    {
     "cell_type": "code",
     "collapsed": false,
     "input": [
      "alpha = 1\n",
      "T1 = 50\n",
      "T2 = 100\n",
      "T3 = 200\n",
      "\n",
      "p1 = ngp(alpha_1, T1)\n",
      "p2 = ngp(alpha_2, T2)\n",
      "p3 = ngp(alpha_3, T3)\n",
      "\n",
      "#subplots, figsize = col_size x row_size\n",
      "plt.subplots(1,3, figsize=(18,4))\n",
      "\n",
      "plt.subplot(1,3,1)\n",
      "plt.bar(range(T1), p1, )\n",
      "plt.title('T = %f' % T1)\n",
      "\n",
      "plt.subplot(1,3,2)\n",
      "plt.bar(range(T2), p2)\n",
      "plt.title('T = %f' % T2)\n",
      "\n",
      "plt.subplot(1,3,3)\n",
      "plt.bar(range(T3), p3)\n",
      "plt.title('T = %f' % T3)"
     ],
     "language": "python",
     "metadata": {},
     "outputs": [
      {
       "metadata": {},
       "output_type": "pyout",
       "prompt_number": 88,
       "text": [
        "<matplotlib.text.Text at 0x1239c9650>"
       ]
      },
      {
       "metadata": {},
       "output_type": "display_data",
       "png": "[encoded data removed]",
       "text": [
        "<matplotlib.figure.Figure at 0x122cdbc10>"
       ]
      }
     ],
     "prompt_number": 88
    },
    {
     "cell_type": "code",
     "collapsed": false,
     "input": [],
     "language": "python",
     "metadata": {},
     "outputs": []
    }
   ],
   "metadata": {}
  }
 ]
}