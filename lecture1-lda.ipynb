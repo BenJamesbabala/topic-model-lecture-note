{
 "metadata": {
  "name": "",
  "signature": "sha256:0ac2a345abee180be49c81f031c377f0d925a00a80830db49a7c665ee0b4de1d"
 },
 "nbformat": 3,
 "nbformat_minor": 0,
 "worksheets": [
  {
   "cells": [
    {
     "cell_type": "markdown",
     "metadata": {},
     "source": [
      "Generative processs"
     ]
    },
    {
     "cell_type": "code",
     "collapsed": false,
     "input": [],
     "language": "python",
     "metadata": {},
     "outputs": []
    }
   ],
   "metadata": {}
  }
 ]
}