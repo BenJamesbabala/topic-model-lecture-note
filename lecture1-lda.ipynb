{
 "metadata": {
  "name": "",
  "signature": "sha256:ce0d04a875c65961bd822d4010a7bbf8767a29e5b06384652519138abc7914a9"
 },
 "nbformat": 3,
 "nbformat_minor": 0,
 "worksheets": [
  {
   "cells": [
    {
     "cell_type": "markdown",
     "metadata": {},
     "source": [
      "LDA's generative processs"
     ]
    },
    {
     "cell_type": "code",
     "collapsed": false,
     "input": [
      "ntopic = 10\n",
      "nvoca = 20\n",
      "alpha = np.ones(ntopic)*0.1\n",
      "beta = np.ones(nvoca)*0.01\n",
      "theta = np.random.dirichlet(alpha)\n",
      "phi = np.random.dirichlet(beta, size=ntopic)"
     ],
     "language": "python",
     "metadata": {},
     "outputs": [],
     "prompt_number": 1
    },
    {
     "cell_type": "code",
     "collapsed": false,
     "input": [
      "_z = np.random.multinomial(1, theta)"
     ],
     "language": "python",
     "metadata": {},
     "outputs": [],
     "prompt_number": 2
    },
    {
     "cell_type": "code",
     "collapsed": false,
     "input": [
      "_z"
     ],
     "language": "python",
     "metadata": {},
     "outputs": [
      {
       "metadata": {},
       "output_type": "pyout",
       "prompt_number": 3,
       "text": [
        "array([0, 1, 0, 0, 0, 0, 0, 0, 0, 0])"
       ]
      }
     ],
     "prompt_number": 3
    },
    {
     "cell_type": "code",
     "collapsed": false,
     "input": [
      "z = _z.nonzero()[0][0]"
     ],
     "language": "python",
     "metadata": {},
     "outputs": [],
     "prompt_number": 4
    },
    {
     "cell_type": "code",
     "collapsed": false,
     "input": [
      "_w = np.random.multinomial(1, phi[z,:])\n",
      "w = _w.nonzero()[0][0]"
     ],
     "language": "python",
     "metadata": {},
     "outputs": [],
     "prompt_number": 5
    },
    {
     "cell_type": "code",
     "collapsed": false,
     "input": [
      "w"
     ],
     "language": "python",
     "metadata": {},
     "outputs": [
      {
       "metadata": {},
       "output_type": "pyout",
       "prompt_number": 6,
       "text": [
        "10"
       ]
      }
     ],
     "prompt_number": 6
    },
    {
     "cell_type": "markdown",
     "metadata": {},
     "source": [
      "Collapsed Gibbs Sampling\n",
      "========================\n"
     ]
    },
    {
     "cell_type": "code",
     "collapsed": false,
     "input": [
      "# read sample corpus from nltk.corpus.brown corpus\n",
      "# install nltk package, import nltk, and run nltk.download() to get corpora provided by nltk\n",
      "import nltk\n",
      "from nltk.corpus import brown\n",
      "from nltk.corpus import stopwords\n",
      "\n",
      "alpha = 0.1\n",
      "beta = 0.01\n",
      "\n",
      "ndoc = 500\n",
      "ntopics = 10\n",
      "\n",
      "st = set(stopwords.words())\n",
      "st.add(u'.')\n",
      "st.add(u',')\n",
      "st.add(u'\\'\\'')\n",
      "st.add(u'``')\n",
      "st.add(u':')\n",
      "st.add(u'--')\n",
      "\n",
      "_docs = brown.sents()\n",
      "docs = list()\n",
      "for di in xrange(ndoc):\n",
      "    doc = _docs[di]\n",
      "    new_doc = list()\n",
      "    for word in doc:\n",
      "        if word.lower() not in st:\n",
      "            new_doc.append(word.lower())\n",
      "    docs.append(new_doc)"
     ],
     "language": "python",
     "metadata": {},
     "outputs": [],
     "prompt_number": 7
    },
    {
     "cell_type": "code",
     "collapsed": false,
     "input": [
      "# construct vocabulary\n",
      "_voca = set()\n",
      "for doc in docs:\n",
      "    _voca = _voca.union(set(doc))\n",
      "    \n",
      "nvoca = len(_voca)\n",
      "voca = dict()\n",
      "\n",
      "for word in _voca:\n",
      "    voca[word] = len(voca)\n",
      "voca_list = np.array(list(_voca))"
     ],
     "language": "python",
     "metadata": {},
     "outputs": [],
     "prompt_number": 8
    },
    {
     "cell_type": "code",
     "collapsed": false,
     "input": [
      "# set sampling variables\n",
      "\n",
      "word_topic = np.zeros([nvoca,ntopic])\n",
      "topic_sum = np.zeros(ntopic)\n",
      "doc_sum = np.zeros([ndoc, ntopic])\n",
      "\n",
      "assigned_topics = [list() for i in xrange(ndoc)]"
     ],
     "language": "python",
     "metadata": {},
     "outputs": [],
     "prompt_number": 9
    },
    {
     "cell_type": "code",
     "collapsed": false,
     "input": [
      "#initial sampling process\n",
      "\n",
      "for di in xrange(ndoc):\n",
      "    doc = docs[di]\n",
      "    for word in doc:\n",
      "        w_no = voca[word]\n",
      "        prob = np.zeros(ntopic)\n",
      "        for topic in xrange(ntopic):\n",
      "            prob[topic] = (word_topic[w_no,topic] + beta)/(topic_sum[topic] + beta*nvoca)*(alpha + doc_sum[di,topic])\n",
      "        prob /= np.sum(prob)\n",
      "        \n",
      "        # draw random sample\n",
      "        new_topic = np.random.multinomial(1, prob).nonzero()[0][0]\n",
      "        \n",
      "        assigned_topics[di].append(new_topic)\n",
      "        doc_sum[di,new_topic] += 1\n",
      "        topic_sum[new_topic] += 1\n",
      "        word_topic[w_no,new_topic] += 1\n"
     ],
     "language": "python",
     "metadata": {},
     "outputs": [],
     "prompt_number": 10
    },
    {
     "cell_type": "code",
     "collapsed": false,
     "input": [
      "# iterate sampling process\n",
      "\n",
      "niter = 100\n",
      "for it in xrange(niter):\n",
      "    for di in xrange(ndoc):\n",
      "        doc = docs[di]\n",
      "        for wi in xrange(len(doc)):\n",
      "            word = doc[wi]\n",
      "            w_no = voca[word]\n",
      "            prev_topic = assigned_topics[di][wi]\n",
      "\n",
      "            doc_sum[di,prev_topic] -= 1\n",
      "            topic_sum[prev_topic] -= 1\n",
      "            word_topic[w_no,prev_topic] -= 1\n",
      "\n",
      "            prob = np.zeros(ntopic)\n",
      "            for topic in xrange(ntopic):\n",
      "                prob[topic] = (word_topic[w_no,topic] + beta)/(topic_sum[topic] + beta*nvoca)*(alpha + doc_sum[di,topic])\n",
      "            prob /= np.sum(prob)\n",
      "            \n",
      "            # draw random sample\n",
      "            new_topic = np.random.multinomial(1, prob).nonzero()[0][0]\n",
      "\n",
      "            assigned_topics[di][wi] = new_topic\n",
      "            doc_sum[di,new_topic] += 1\n",
      "            topic_sum[new_topic] += 1\n",
      "            word_topic[w_no,new_topic] += 1"
     ],
     "language": "python",
     "metadata": {},
     "outputs": [],
     "prompt_number": 11
    },
    {
     "cell_type": "code",
     "collapsed": false,
     "input": [
      "# print top probability words for each topic\n",
      "for topic in xrange(ntopic):\n",
      "    print 'topic %d : %s' % (topic, ' '.join(voca_list[np.argsort(word_topic[:,topic])[::-1][0:10]]))"
     ],
     "language": "python",
     "metadata": {},
     "outputs": [
      {
       "output_type": "stream",
       "stream": "stdout",
       "text": [
        "topic 0 : said ( ) would issue law first work highway j.\n",
        "topic 1 : states united administration laos must party republicans secretary government another\n",
        "topic 2 : would house said committee senate president chairman public rep. passed\n",
        "topic 3 : state dallas bill administration department would bonds day make policy\n",
        "topic 4 : would year plan medical president pay grants increase million care\n",
        "topic 5 : council election cases charter vote town special possible yesterday said\n",
        "topic 6 : said mr. city made director campaign would hawksley local defense\n",
        "topic 7 : texas federal schools state school funds county provide health new\n",
        "topic 8 : jury said court fulton county city general committee since election\n",
        "topic 9 : sunday one republican night resolution monday laws asked session time\n"
       ]
      }
     ],
     "prompt_number": 12
    },
    {
     "cell_type": "code",
     "collapsed": false,
     "input": [
      "# or removing initialization steps using conditional statement\n",
      "\n",
      "niter = 100\n",
      "for it in xrange(niter):\n",
      "    for di in xrange(ndoc):\n",
      "        doc = docs[di]\n",
      "        for wi in xrange(len(doc)):\n",
      "            word = doc[wi]\n",
      "            w_no = voca[word]\n",
      "            \n",
      "            if it != 0:\n",
      "                prev_topic = assigned_topics[di][wi]\n",
      "\n",
      "                doc_sum[di,prev_topic] -= 1\n",
      "                topic_sum[prev_topic] -= 1\n",
      "                word_topic[w_no,prev_topic] -= 1\n",
      "\n",
      "            prob = np.zeros(ntopic)\n",
      "            for topic in xrange(ntopic):\n",
      "                prob[topic] = (word_topic[w_no,topic] + beta)/(topic_sum[topic] + beta*nvoca)*(alpha + doc_sum[di,topic])\n",
      "            prob /= np.sum(prob)\n",
      "            \n",
      "            # draw random sample\n",
      "            new_topic = np.random.multinomial(1, prob).nonzero()[0][0]\n",
      "\n",
      "            assigned_topics[di][wi] = new_topic\n",
      "            doc_sum[di,new_topic] += 1\n",
      "            topic_sum[new_topic] += 1\n",
      "            word_topic[w_no,new_topic] += 1"
     ],
     "language": "python",
     "metadata": {},
     "outputs": [],
     "prompt_number": 13
    },
    {
     "cell_type": "code",
     "collapsed": false,
     "input": [
      "# print top probability words for each topic\n",
      "for topic in xrange(ntopic):\n",
      "    print 'topic %d : %s' % (topic, ' '.join(voca_list[np.argsort(word_topic[:,topic])[::-1][0:10]]))"
     ],
     "language": "python",
     "metadata": {},
     "outputs": [
      {
       "output_type": "stream",
       "stream": "stdout",
       "text": [
        "topic 0 : said would ( ) issue law highway work first legislators\n",
        "topic 1 : states united administration laos must party republicans secretary government another\n",
        "topic 2 : house would said president committee senate chairman public bill resolution\n",
        "topic 3 : state dallas administration bill would bonds department day make policy\n",
        "topic 4 : would year plan medical president pay home million care grants\n",
        "topic 5 : council election cases charter vote special town said possible yesterday\n",
        "topic 6 : said mr. city made campaign director hawksley would local told\n",
        "topic 7 : texas state federal schools school funds county new provide program\n",
        "topic 8 : jury said court fulton general county city committee since take\n",
        "topic 9 : sunday one republican night monday asked time laws session primary\n"
       ]
      }
     ],
     "prompt_number": 14
    },
    {
     "cell_type": "code",
     "collapsed": false,
     "input": [],
     "language": "python",
     "metadata": {},
     "outputs": [],
     "prompt_number": 14
    }
   ],
   "metadata": {}
  }
 ]
}